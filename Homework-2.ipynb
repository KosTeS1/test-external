{
 "cells": [
  {
   "cell_type": "code",
   "execution_count": 2,
   "id": "e3a215e9-05d1-4b48-96e7-099d8c353ffc",
   "metadata": {
    "tags": []
   },
   "outputs": [
    {
     "name": "stdout",
     "output_type": "stream",
     "text": [
      "2024 какой год: Високосный год\n",
      "2025 какой год: Обычный год\n"
     ]
    }
   ],
   "source": [
    "def check_year(year):\n",
    "    # Компактная версия с одним условием\n",
    "    if (year % 4 == 0 and year % 100 != 0) or (year % 400 == 0):\n",
    "        result = 'Високосный год'\n",
    "    else:\n",
    "        result = 'Обычный год'\n",
    "    \n",
    "    return result\n",
    "\n",
    "if __name__ == '__main__':\n",
    "    year_result = check_year(2024)\n",
    "    assert year_result == 'Високосный год', \"Ответ должен быть Високосный год\"\n",
    "    print(f\"2024 какой год: {year_result}\")\n",
    "    \n",
    "    year_result = check_year(2025)\n",
    "    assert year_result == 'Обычный год', \"Ответ должен быть Обычный год\"\n",
    "    print(f\"2025 какой год: {year_result}\")"
   ]
  }
 ],
 "metadata": {
  "kernelspec": {
   "display_name": "Python 3",
   "language": "python",
   "name": "python3"
  },
  "language_info": {
   "codemirror_mode": {
    "name": "ipython",
    "version": 3
   },
   "file_extension": ".py",
   "mimetype": "text/x-python",
   "name": "python",
   "nbconvert_exporter": "python",
   "pygments_lexer": "ipython3",
   "version": "3.7.2"
  }
 },
 "nbformat": 4,
 "nbformat_minor": 5
}
