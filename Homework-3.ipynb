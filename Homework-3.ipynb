{
 "cells": [
  {
   "cell_type": "code",
   "execution_count": 4,
   "id": "447d25fa-c437-4c13-915e-f36f08d2c795",
   "metadata": {
    "tags": []
   },
   "outputs": [
    {
     "name": "stdout",
     "output_type": "stream",
     "text": [
      "\n",
      "Слово: 'test' (длина: 4)\n",
      "Чётное → 'es'\n",
      "\n",
      "Слово: 'testing' (длина: 7)\n",
      "Нечётное → 't'\n"
     ]
    }
   ],
   "source": [
    "# Домашнее задание 3\n",
    "# Задание 1\n",
    " \n",
    "# Напишите код на Python в среде Jupyter Notebook или Google Colab для решения следующей задачи.\n",
    "# Дана переменная, в которой хранится слово из латинских букв. Напишите код, который выводит на экран:\n",
    "# среднюю букву, если число букв в слове нечётное;\n",
    "# две средних буквы, если число букв чётное.\n",
    "# Пример работы программы:\n",
    "# word = 'test' Результат: es\n",
    "# word = 'testing' Результат: t\n",
    "\n",
    "# Моё решение через if, если делить без остатка на 2 возвращаем middle_index [-1+1] \n",
    "# и else если не делится, то возвращаем среднюю букву middle_index\n",
    "\n",
    "test_words = [\"test\", \"testing\"]\n",
    "\n",
    "for word in test_words:\n",
    "    length = len(word)\n",
    "    \n",
    "    print(f\"\\nСлово: '{word}' (длина: {length})\")\n",
    "    \n",
    "    if length % 2 == 0:\n",
    "        middle_index = length // 2\n",
    "        result = word[middle_index - 1: middle_index + 1]\n",
    "        print(f\"Чётное → '{result}'\")\n",
    "    else:\n",
    "        middle_index = length // 2\n",
    "        result = word[middle_index]\n",
    "        print(f\"Нечётное → '{result}'\")"
   ]
  },
  {
   "cell_type": "code",
   "execution_count": 6,
   "id": "46047cee-15b6-4b24-a7d1-cb218cd17634",
   "metadata": {},
   "outputs": [],
   "source": [
    "# Задание 2.\n",
    "\n",
    "# Вы делаете MVP (минимально жизнеспособный продукт) dating-сервиса. У вас есть список юношей и девушек.\n",
    "# Выдвигаем гипотезу: лучшие рекомендации получатся, если просто отсортировать имена по алфавиту и познакомить людей с одинаковыми индексами после сортировки. Но вы не будете никого знакомить, если кто-то может остаться без пары.\n",
    " \n",
    "# Примеры работы программы:\n",
    "# boys = ['Peter', 'Alex', 'John', 'Arthur', 'Richard'] \n",
    "# girls = ['Kate', 'Liza', 'Kira', 'Emma', 'Trisha'] \n",
    " \n",
    "# Результат:\n",
    "# Идеальные пары:\n",
    "# Alex и Emma\n",
    "# Arthur и Kate\n",
    "# John и Kira\n",
    "# Peter и Liza\n",
    "# Richard и Trisha\n",
    " \n",
    "# boys = ['Peter', 'Alex', 'John', 'Arthur', 'Richard', 'Michael'] \n",
    "# girls = ['Kate', 'Liza', 'Kira', 'Emma', 'Trisha'] \n",
    " \n",
    "#Результат: Внимание, кто-то может остаться без пары!"
   ]
  },
  {
   "cell_type": "code",
   "execution_count": 7,
   "id": "18214c17-c9cc-4e14-8525-a0856a663f05",
   "metadata": {
    "tags": []
   },
   "outputs": [
    {
     "name": "stdout",
     "output_type": "stream",
     "text": [
      "Идеальные пары:\n",
      "Alex и Emma\n",
      "Arthur и Kate\n",
      "John и Kira\n",
      "Peter и Liza\n",
      "Richard и Trisha\n"
     ]
    }
   ],
   "source": [
    "# Решу задачу через метод zip, но перед этим приведу списки имён по алфавиту через sorted.\n",
    "# Потом соеденю элементы двух списков.\n",
    "\n",
    "boys = ['Peter', 'Alex', 'John', 'Arthur', 'Richard'] \n",
    "girls = ['Kate', 'Liza', 'Kira', 'Emma', 'Trisha']\n",
    "\n",
    "boys_sorted = sorted(boys)\n",
    "girls_sorted = sorted(girls)\n",
    "\n",
    "if len(boys_sorted) == len(girls_sorted):\n",
    "    \n",
    "    pairs = [f\"{boy} и {girl}\" for boy, girl in zip(boys_sorted, girls_sorted)]\n",
    "    \n",
    "    print(\"Идеальные пары:\")\n",
    "    for pair in pairs:\n",
    "        print(pair)\n",
    "else:\n",
    "    print(\"Внимание, кто-то может остаться без пары!\")"
   ]
  },
  {
   "cell_type": "code",
   "execution_count": null,
   "id": "5b626529-5725-446e-8f82-f359ceeca8b1",
   "metadata": {},
   "outputs": [],
   "source": []
  }
 ],
 "metadata": {
  "kernelspec": {
   "display_name": "Python 3",
   "language": "python",
   "name": "python3"
  },
  "language_info": {
   "codemirror_mode": {
    "name": "ipython",
    "version": 3
   },
   "file_extension": ".py",
   "mimetype": "text/x-python",
   "name": "python",
   "nbconvert_exporter": "python",
   "pygments_lexer": "ipython3",
   "version": "3.7.2"
  }
 },
 "nbformat": 4,
 "nbformat_minor": 5
}
